{
 "cells": [
  {
   "cell_type": "markdown",
   "metadata": {},
   "source": [
    "# Machine Learning with Spark - Lab\n",
    "\n",
    "## Introduction\n",
    "\n",
    "Previously you saw how to manipulate data with Spark DataFrames as well as create machine learning models. In this lab, you're going to practice loading data, manipulating it, preparing visualizations, and fitting it in the Spark MLlib framework. Let's get started!\n",
    "\n",
    "### Objectives\n",
    "\n",
    "In this lab you will: \n",
    "\n",
    "- Load and manipulate data using Spark DataFrames \n",
    "- Create a Spark ML pipeline that transforms data and runs over a grid of hyperparameters "
   ]
  },
  {
   "cell_type": "markdown",
   "metadata": {},
   "source": [
    "## The Data\n",
    "\n",
    "This dataset is from a Taiwanese financial company, and the task is to determine which individuals are going to default on their credit card based off of characteristics such as limit balance, past payment history, age, marriage status, and sex.\n",
    "\n",
    "You'll use the file `credit_card_default.csv`, which comes from the [UCI ML Repository](https://archive.ics.uci.edu/ml/datasets/default+of+credit+card+clients)."
   ]
  },
  {
   "cell_type": "markdown",
   "metadata": {},
   "source": [
    "## Initial Data Exploration\n",
    "\n",
    "Get started by writing the relevant import statement and creating a local SparkSession called `spark`, then use that SparkSession to read `credit_card_default.csv` into a Spark SQL DataFrame."
   ]
  },
  {
   "cell_type": "code",
   "execution_count": 2,
   "metadata": {},
   "outputs": [
    {
     "ename": "Exception",
     "evalue": "Java gateway process exited before sending its port number",
     "output_type": "error",
     "traceback": [
      "\u001b[1;31m---------------------------------------------------------------------------\u001b[0m",
      "\u001b[1;31mException\u001b[0m                                 Traceback (most recent call last)",
      "\u001b[1;32m<ipython-input-2-8b56cbc6ee8e>\u001b[0m in \u001b[0;36m<module>\u001b[1;34m\u001b[0m\n\u001b[0;32m      2\u001b[0m \u001b[1;32mfrom\u001b[0m \u001b[0mpyspark\u001b[0m\u001b[1;33m.\u001b[0m\u001b[0msql\u001b[0m \u001b[1;32mimport\u001b[0m \u001b[0mSparkSession\u001b[0m\u001b[1;33m\u001b[0m\u001b[1;33m\u001b[0m\u001b[0m\n\u001b[0;32m      3\u001b[0m \u001b[1;31m# initialize Spark Session\u001b[0m\u001b[1;33m\u001b[0m\u001b[1;33m\u001b[0m\u001b[1;33m\u001b[0m\u001b[0m\n\u001b[1;32m----> 4\u001b[1;33m \u001b[0mspark\u001b[0m \u001b[1;33m=\u001b[0m \u001b[0mSparkSession\u001b[0m\u001b[1;33m.\u001b[0m\u001b[0mbuilder\u001b[0m\u001b[1;33m.\u001b[0m\u001b[0mmaster\u001b[0m\u001b[1;33m(\u001b[0m\u001b[1;34m'local'\u001b[0m\u001b[1;33m)\u001b[0m\u001b[1;33m.\u001b[0m\u001b[0mgetOrCreate\u001b[0m\u001b[1;33m(\u001b[0m\u001b[1;33m)\u001b[0m\u001b[1;33m\u001b[0m\u001b[1;33m\u001b[0m\u001b[0m\n\u001b[0m\u001b[0;32m      5\u001b[0m \u001b[1;33m\u001b[0m\u001b[0m\n\u001b[0;32m      6\u001b[0m \u001b[1;31m# read in csv to a spark dataframe\u001b[0m\u001b[1;33m\u001b[0m\u001b[1;33m\u001b[0m\u001b[1;33m\u001b[0m\u001b[0m\n",
      "\u001b[1;32m~\\anaconda3\\envs\\learn-env\\lib\\site-packages\\pyspark\\sql\\session.py\u001b[0m in \u001b[0;36mgetOrCreate\u001b[1;34m(self)\u001b[0m\n\u001b[0;32m    184\u001b[0m                             \u001b[0msparkConf\u001b[0m\u001b[1;33m.\u001b[0m\u001b[0mset\u001b[0m\u001b[1;33m(\u001b[0m\u001b[0mkey\u001b[0m\u001b[1;33m,\u001b[0m \u001b[0mvalue\u001b[0m\u001b[1;33m)\u001b[0m\u001b[1;33m\u001b[0m\u001b[1;33m\u001b[0m\u001b[0m\n\u001b[0;32m    185\u001b[0m                         \u001b[1;31m# This SparkContext may be an existing one.\u001b[0m\u001b[1;33m\u001b[0m\u001b[1;33m\u001b[0m\u001b[1;33m\u001b[0m\u001b[0m\n\u001b[1;32m--> 186\u001b[1;33m                         \u001b[0msc\u001b[0m \u001b[1;33m=\u001b[0m \u001b[0mSparkContext\u001b[0m\u001b[1;33m.\u001b[0m\u001b[0mgetOrCreate\u001b[0m\u001b[1;33m(\u001b[0m\u001b[0msparkConf\u001b[0m\u001b[1;33m)\u001b[0m\u001b[1;33m\u001b[0m\u001b[1;33m\u001b[0m\u001b[0m\n\u001b[0m\u001b[0;32m    187\u001b[0m                     \u001b[1;31m# Do not update `SparkConf` for existing `SparkContext`, as it's shared\u001b[0m\u001b[1;33m\u001b[0m\u001b[1;33m\u001b[0m\u001b[1;33m\u001b[0m\u001b[0m\n\u001b[0;32m    188\u001b[0m                     \u001b[1;31m# by all sessions.\u001b[0m\u001b[1;33m\u001b[0m\u001b[1;33m\u001b[0m\u001b[1;33m\u001b[0m\u001b[0m\n",
      "\u001b[1;32m~\\anaconda3\\envs\\learn-env\\lib\\site-packages\\pyspark\\context.py\u001b[0m in \u001b[0;36mgetOrCreate\u001b[1;34m(cls, conf)\u001b[0m\n\u001b[0;32m    369\u001b[0m         \u001b[1;32mwith\u001b[0m \u001b[0mSparkContext\u001b[0m\u001b[1;33m.\u001b[0m\u001b[0m_lock\u001b[0m\u001b[1;33m:\u001b[0m\u001b[1;33m\u001b[0m\u001b[1;33m\u001b[0m\u001b[0m\n\u001b[0;32m    370\u001b[0m             \u001b[1;32mif\u001b[0m \u001b[0mSparkContext\u001b[0m\u001b[1;33m.\u001b[0m\u001b[0m_active_spark_context\u001b[0m \u001b[1;32mis\u001b[0m \u001b[1;32mNone\u001b[0m\u001b[1;33m:\u001b[0m\u001b[1;33m\u001b[0m\u001b[1;33m\u001b[0m\u001b[0m\n\u001b[1;32m--> 371\u001b[1;33m                 \u001b[0mSparkContext\u001b[0m\u001b[1;33m(\u001b[0m\u001b[0mconf\u001b[0m\u001b[1;33m=\u001b[0m\u001b[0mconf\u001b[0m \u001b[1;32mor\u001b[0m \u001b[0mSparkConf\u001b[0m\u001b[1;33m(\u001b[0m\u001b[1;33m)\u001b[0m\u001b[1;33m)\u001b[0m\u001b[1;33m\u001b[0m\u001b[1;33m\u001b[0m\u001b[0m\n\u001b[0m\u001b[0;32m    372\u001b[0m             \u001b[1;32mreturn\u001b[0m \u001b[0mSparkContext\u001b[0m\u001b[1;33m.\u001b[0m\u001b[0m_active_spark_context\u001b[0m\u001b[1;33m\u001b[0m\u001b[1;33m\u001b[0m\u001b[0m\n\u001b[0;32m    373\u001b[0m \u001b[1;33m\u001b[0m\u001b[0m\n",
      "\u001b[1;32m~\\anaconda3\\envs\\learn-env\\lib\\site-packages\\pyspark\\context.py\u001b[0m in \u001b[0;36m__init__\u001b[1;34m(self, master, appName, sparkHome, pyFiles, environment, batchSize, serializer, conf, gateway, jsc, profiler_cls)\u001b[0m\n\u001b[0;32m    126\u001b[0m                 \" is not allowed as it is a security risk.\")\n\u001b[0;32m    127\u001b[0m \u001b[1;33m\u001b[0m\u001b[0m\n\u001b[1;32m--> 128\u001b[1;33m         \u001b[0mSparkContext\u001b[0m\u001b[1;33m.\u001b[0m\u001b[0m_ensure_initialized\u001b[0m\u001b[1;33m(\u001b[0m\u001b[0mself\u001b[0m\u001b[1;33m,\u001b[0m \u001b[0mgateway\u001b[0m\u001b[1;33m=\u001b[0m\u001b[0mgateway\u001b[0m\u001b[1;33m,\u001b[0m \u001b[0mconf\u001b[0m\u001b[1;33m=\u001b[0m\u001b[0mconf\u001b[0m\u001b[1;33m)\u001b[0m\u001b[1;33m\u001b[0m\u001b[1;33m\u001b[0m\u001b[0m\n\u001b[0m\u001b[0;32m    129\u001b[0m         \u001b[1;32mtry\u001b[0m\u001b[1;33m:\u001b[0m\u001b[1;33m\u001b[0m\u001b[1;33m\u001b[0m\u001b[0m\n\u001b[0;32m    130\u001b[0m             self._do_init(master, appName, sparkHome, pyFiles, environment, batchSize, serializer,\n",
      "\u001b[1;32m~\\anaconda3\\envs\\learn-env\\lib\\site-packages\\pyspark\\context.py\u001b[0m in \u001b[0;36m_ensure_initialized\u001b[1;34m(cls, instance, gateway, conf)\u001b[0m\n\u001b[0;32m    318\u001b[0m         \u001b[1;32mwith\u001b[0m \u001b[0mSparkContext\u001b[0m\u001b[1;33m.\u001b[0m\u001b[0m_lock\u001b[0m\u001b[1;33m:\u001b[0m\u001b[1;33m\u001b[0m\u001b[1;33m\u001b[0m\u001b[0m\n\u001b[0;32m    319\u001b[0m             \u001b[1;32mif\u001b[0m \u001b[1;32mnot\u001b[0m \u001b[0mSparkContext\u001b[0m\u001b[1;33m.\u001b[0m\u001b[0m_gateway\u001b[0m\u001b[1;33m:\u001b[0m\u001b[1;33m\u001b[0m\u001b[1;33m\u001b[0m\u001b[0m\n\u001b[1;32m--> 320\u001b[1;33m                 \u001b[0mSparkContext\u001b[0m\u001b[1;33m.\u001b[0m\u001b[0m_gateway\u001b[0m \u001b[1;33m=\u001b[0m \u001b[0mgateway\u001b[0m \u001b[1;32mor\u001b[0m \u001b[0mlaunch_gateway\u001b[0m\u001b[1;33m(\u001b[0m\u001b[0mconf\u001b[0m\u001b[1;33m)\u001b[0m\u001b[1;33m\u001b[0m\u001b[1;33m\u001b[0m\u001b[0m\n\u001b[0m\u001b[0;32m    321\u001b[0m                 \u001b[0mSparkContext\u001b[0m\u001b[1;33m.\u001b[0m\u001b[0m_jvm\u001b[0m \u001b[1;33m=\u001b[0m \u001b[0mSparkContext\u001b[0m\u001b[1;33m.\u001b[0m\u001b[0m_gateway\u001b[0m\u001b[1;33m.\u001b[0m\u001b[0mjvm\u001b[0m\u001b[1;33m\u001b[0m\u001b[1;33m\u001b[0m\u001b[0m\n\u001b[0;32m    322\u001b[0m \u001b[1;33m\u001b[0m\u001b[0m\n",
      "\u001b[1;32m~\\anaconda3\\envs\\learn-env\\lib\\site-packages\\pyspark\\java_gateway.py\u001b[0m in \u001b[0;36mlaunch_gateway\u001b[1;34m(conf, popen_kwargs)\u001b[0m\n\u001b[0;32m    103\u001b[0m \u001b[1;33m\u001b[0m\u001b[0m\n\u001b[0;32m    104\u001b[0m             \u001b[1;32mif\u001b[0m \u001b[1;32mnot\u001b[0m \u001b[0mos\u001b[0m\u001b[1;33m.\u001b[0m\u001b[0mpath\u001b[0m\u001b[1;33m.\u001b[0m\u001b[0misfile\u001b[0m\u001b[1;33m(\u001b[0m\u001b[0mconn_info_file\u001b[0m\u001b[1;33m)\u001b[0m\u001b[1;33m:\u001b[0m\u001b[1;33m\u001b[0m\u001b[1;33m\u001b[0m\u001b[0m\n\u001b[1;32m--> 105\u001b[1;33m                 \u001b[1;32mraise\u001b[0m \u001b[0mException\u001b[0m\u001b[1;33m(\u001b[0m\u001b[1;34m\"Java gateway process exited before sending its port number\"\u001b[0m\u001b[1;33m)\u001b[0m\u001b[1;33m\u001b[0m\u001b[1;33m\u001b[0m\u001b[0m\n\u001b[0m\u001b[0;32m    106\u001b[0m \u001b[1;33m\u001b[0m\u001b[0m\n\u001b[0;32m    107\u001b[0m             \u001b[1;32mwith\u001b[0m \u001b[0mopen\u001b[0m\u001b[1;33m(\u001b[0m\u001b[0mconn_info_file\u001b[0m\u001b[1;33m,\u001b[0m \u001b[1;34m\"rb\"\u001b[0m\u001b[1;33m)\u001b[0m \u001b[1;32mas\u001b[0m \u001b[0minfo\u001b[0m\u001b[1;33m:\u001b[0m\u001b[1;33m\u001b[0m\u001b[1;33m\u001b[0m\u001b[0m\n",
      "\u001b[1;31mException\u001b[0m: Java gateway process exited before sending its port number"
     ]
    }
   ],
   "source": [
    "# import necessary libraries\n",
    "from pyspark.sql import SparkSession\n",
    "# initialize Spark Session\n",
    "spark = SparkSession.builder.master('local').getOrCreate()\n",
    "\n",
    "# read in csv to a spark dataframe\n",
    "spark_df = spark.read.csv('credit_card_default.csv', header='true', inferSchema='true')"
   ]
  },
  {
   "cell_type": "markdown",
   "metadata": {},
   "source": [
    "Use `.head()` to display the first 5 records, and print out the schema."
   ]
  },
  {
   "cell_type": "code",
   "execution_count": 4,
   "metadata": {},
   "outputs": [],
   "source": [
    "# Display the first 5 records\n",
    "spark_df.head(5)"
   ]
  },
  {
   "cell_type": "code",
   "execution_count": null,
   "metadata": {},
   "outputs": [],
   "source": [
    "# Print out the schema\n",
    "spark_df.printSchema()"
   ]
  },
  {
   "cell_type": "markdown",
   "metadata": {},
   "source": [
    "It looks like we have three non-numeric features. For each non-numeric (`string`) feature, select and show all distinct categories."
   ]
  },
  {
   "cell_type": "code",
   "execution_count": null,
   "metadata": {},
   "outputs": [],
   "source": [
    "# Select and show all distinct categories\n",
    "\n",
    "# Loop over all column dtypes and display information if\n",
    "# the dtype is 'string'\n",
    "# (Alternatively you could just list out the column names)\n",
    "for column, data_type in spark_df.dtypes:\n",
    "    if data_type == 'string':\n",
    "        # Select and show distinct values in that column\n",
    "        spark_df.select(column).distinct().show()"
   ]
  },
  {
   "cell_type": "markdown",
   "metadata": {},
   "source": [
    "Interesting...it looks like we have some extraneous values in our categories. For example both `EDUCATION` and `MARRIAGE` have a category `0`.\n",
    "\n",
    "Let's create some visualizations of each of these to determine just how many of them there are.\n",
    "\n",
    "Create bar plots of the variables `EDUCATION` and `MARRIAGE` to see how the records are distributed between the categories.\n",
    "\n",
    "<details>\n",
    "    <summary><u>Click to reveal hint</u></summary>\n",
    "    \n",
    "To create a bar plot, you need to group by the category (`.groupBy()`) and then aggregate by the count in that category (`.count()`). That will result in a small DataFrame containing `EDUCATION` and `count` columns.\n",
    "    \n",
    "Then the easiest way to create a bar plot is to call `.toPandas()` to make that small Spark SQL DataFrame into a pandas DataFrame, and call `.plot()` on the pandas DataFrame.\n",
    "\n",
    "</details>"
   ]
  },
  {
   "cell_type": "code",
   "execution_count": null,
   "metadata": {},
   "outputs": [],
   "source": [
    "# Create bar plot of EDUCATION\n",
    "# First, aggregate data\n",
    "education_cats = spark_df.groupBy('EDUCATION').count()\n",
    "education_cats.show()\n",
    "# Then plot data\n",
    "education_cats.toPandas().plot(x=\"EDUCATION\", y=\"count\", kind=\"bar\", rot=0);"
   ]
  },
  {
   "cell_type": "code",
   "execution_count": null,
   "metadata": {},
   "outputs": [],
   "source": [
    "# Create bar plot of MARRIAGE\n",
    "# First, aggregate data\n",
    "marriage_cats = spark_df.groupby('MARRIAGE').count()\n",
    "marriage_cats.show()\n",
    "# Then plot data\n",
    "marriage_cats.toPandas().plot(x=\"MARRIAGE\", y=\"count\", kind=\"bar\", rot=0);"
   ]
  },
  {
   "cell_type": "markdown",
   "metadata": {},
   "source": [
    "## Binning\n",
    "\n",
    "It looks like there are barely any records in the `0`, `5`, and `6` categories. Let's go ahead and bin (combine) those with the current `Other` records into a single catch-all `Other` category for both `EDUCATION` and `MARRIAGE`.\n",
    "\n",
    "The approach we'll use is similar to the `CASE WHEN` technique in SQL. If this were a SQL query, it would look something like this:\n",
    "\n",
    "```sql\n",
    "SELECT CASE\n",
    "       WHEN EDUCATION = '0' THEN 'Other'\n",
    "       WHEN EDUCATION = '5' THEN 'Other'\n",
    "       WHEN EDUCATION = '6' THEN 'Other'\n",
    "       ELSE EDUCATION\n",
    "       END AS EDUCATION\n",
    "  FROM credit_card_default;\n",
    "```\n",
    "\n",
    "With Spark SQL DataFrames, this is achieved using `.withColumn()` ([documentation here](https://spark.apache.org/docs/latest/api/python/reference/api/pyspark.sql.DataFrame.withColumn.html)) in conjunction with `.when()` ([documentation here](https://spark.apache.org/docs/latest/api/python/reference/api/pyspark.sql.Column.when.html)) and `.otherwise()` ([documentation here](https://spark.apache.org/docs/latest/api/python/reference/api/pyspark.sql.Column.otherwise.html))."
   ]
  },
  {
   "cell_type": "code",
   "execution_count": null,
   "metadata": {},
   "outputs": [],
   "source": [
    "# Bin EDUCATION categories\n",
    "\n",
    "# Bin MARRIAGE categories\n",
    "\n",
    "# Select and show all distinct categories for EDUCATION and MARRIGE again\n",
    "\n",
    "from pyspark.sql import functions as F\n",
    "# Bin EDUCATION categories\n",
    "df_education_binned = spark_df.withColumn('EDUCATION',\n",
    "                                          F.when(spark_df['EDUCATION'] == '0', 'Other')\\\n",
    "                                          .when(spark_df['EDUCATION'] == '5', 'Other')\\\n",
    "                                          .when(spark_df['EDUCATION'] == '6', 'Other')\\\n",
    "                                          .otherwise(spark_df['EDUCATION'])\n",
    "                                         )\n",
    "# Bin MARRIAGE categories\n",
    "df_all_binned = df_education_binned.withColumn('MARRIAGE',\n",
    "                                               F.when(df_education_binned['MARRIAGE'] == '0', 'Other')\\\n",
    "                                               .otherwise(df_education_binned['MARRIAGE'])\n",
    "                                              )\n",
    "\n",
    "# Select and show all distinct categories for EDUCATION and MARRIGE again\n",
    "df_all_binned.select('EDUCATION').distinct().show()\n",
    "df_all_binned.select('MARRIAGE').distinct().show()"
   ]
  },
  {
   "cell_type": "markdown",
   "metadata": {},
   "source": [
    "Let's also re-create the plots from earlier, now that the data has been binned:"
   ]
  },
  {
   "cell_type": "code",
   "execution_count": null,
   "metadata": {},
   "outputs": [],
   "source": [
    "# Plot EDUCATION\n",
    "df_all_binned.groupBy('EDUCATION')\\\n",
    "             .count()\\\n",
    "             .toPandas()\\\n",
    "             .plot(x=\"EDUCATION\", y=\"count\", kind=\"bar\", rot=0);"
   ]
  },
  {
   "cell_type": "code",
   "execution_count": null,
   "metadata": {},
   "outputs": [],
   "source": [
    "# Plot MARRIAGE\n",
    "df_all_binned.groupBy('MARRIAGE')\\\n",
    "             .count()\\\n",
    "             .toPandas()\\\n",
    "             .plot(x=\"MARRIAGE\", y=\"count\", kind=\"bar\", rot=0);"
   ]
  },
  {
   "cell_type": "markdown",
   "metadata": {},
   "source": [
    "Much better. Now, let's do a little more investigation into our target variable before diving into the machine learning aspect of this project."
   ]
  },
  {
   "cell_type": "markdown",
   "metadata": {},
   "source": [
    "##  Class Balance Exploration\n",
    "\n",
    "Let's first look at the overall distribution of class balance of the `default` column (the target for our upcoming machine learning process). \n",
    "\n",
    "Create a bar plot to compare the number of defaults (`0`) vs. non-defaults (`1`). Consider customizing your plot labels as well, since `0` and `1` are not particularly understandable values."
   ]
  },
  {
   "cell_type": "code",
   "execution_count": null,
   "metadata": {},
   "outputs": [],
   "source": [
    "# Group and aggregate target data\n",
    "\n",
    "# Plot target data\n",
    "\n",
    "import matplotlib.pyplot as plt\n",
    "\n",
    "# Group and aggregate target data\n",
    "target_cats = df_all_binned.groupBy('default').count().orderBy('default')\n",
    "target_cats.show()\n",
    "\n",
    "# Plot target data\n",
    "fig, ax = plt.subplots()\n",
    "target_cats.toPandas().plot(x='default', y='count', kind='bar', ax=ax, rot=0)\n",
    "ax.set_xlabel(\"Target\")\n",
    "ax.set_xticklabels(['Does Not Default (0)','Defaults (1)']);"
   ]
  },
  {
   "cell_type": "markdown",
   "metadata": {},
   "source": [
    "Looks like we have a fairly imbalanced dataset.\n",
    "\n",
    "Let's also visualize the difference in default rate between males and females in this dataset. Group by both `default` and `SEX` and visualize the comparison."
   ]
  },
  {
   "cell_type": "code",
   "execution_count": null,
   "metadata": {},
   "outputs": [],
   "source": [
    "# Group and aggregate target and sex data\n",
    "target_by_sex = df_all_binned.groupBy(['default', 'SEX']).count().orderBy(['default', 'SEX'])\n",
    "target_by_sex.show()\n",
    "\n",
    "# Plot target and sex data\n",
    "fig, ax = plt.subplots()\n",
    "\n",
    "target_by_sex.toPandas().pivot('SEX', 'default')\\\n",
    "               .plot(kind='bar', ax=ax, rot=0)\n",
    "\n",
    "ax.legend(title=\"Count\", labels=['Does Not Default (0)','Defaults (1)']);"
   ]
  },
  {
   "cell_type": "markdown",
   "metadata": {},
   "source": [
    "It looks like males have an ever so slightly higher default rate than females, and also represent a smaller proportion of the dataset."
   ]
  },
  {
   "cell_type": "markdown",
   "metadata": {},
   "source": [
    "## On to the Machine Learning!\n",
    "\n",
    "Now, it's time to fit the data to the PySpark machine learning model pipeline. You will need:\n",
    "\n",
    "* 3 `StringIndexer`s\n",
    "  * One for each categorical feature\n",
    "  * [Documentation here](https://spark.apache.org/docs/latest/api/python/reference/api/pyspark.ml.feature.StringIndexer.html)\n",
    "* A `OneHotEncoder`\n",
    "  * To encode the newly indexed strings into categorical variables\n",
    "  * [Documentation here](https://spark.apache.org/docs/latest/api/python/reference/api/pyspark.ml.feature.OneHotEncoder.html)\n",
    "* A `VectorAssembler`\n",
    "  * To combine all features into one `SparseVector`\n",
    "  * [Documentation here](https://spark.apache.org/docs/latest/api/python/reference/api/pyspark.ml.feature.VectorAssembler.html)\n",
    "\n",
    "All of these initialized estimators should be stored in a list called `stages`."
   ]
  },
  {
   "cell_type": "code",
   "execution_count": null,
   "metadata": {},
   "outputs": [],
   "source": [
    "# Import the necessary classes\n",
    "from pyspark.ml.feature import StringIndexer, OneHotEncoder, VectorAssembler\n",
    "\n",
    "# Create the string indexers and determine the names of the numeric\n",
    "# and indexed columns\n",
    "# (You could write this out for all 3 but we'll use a loop approach)\n",
    "indexers = []\n",
    "indexed_features = []\n",
    "numeric_features = []\n",
    "\n",
    "for column, data_type in df_all_binned.dtypes:\n",
    "    if data_type == 'string':\n",
    "        # Create StringIndexers for columns containing strings\n",
    "        si = StringIndexer(inputCol=column, outputCol=column+'_num', handleInvalid='keep')\n",
    "        indexers.append(si)\n",
    "        # Save the name of the output column to sent to the OHE\n",
    "        indexed_features.append(si.getOutputCol())\n",
    "    elif column != \"ID\" and column != \"default\":\n",
    "        # Unless it's ID (an identifier rather than a genuine feature),\n",
    "        # append to list of numeric features if the dtype isn't string\n",
    "        numeric_features.append(column)\n",
    "\n",
    "print(\"Indexed string features:\", indexed_features, \"\\n\")\n",
    "print(\"Numeric features:\", numeric_features, \"\\n\")\n",
    "\n",
    "# Create a OneHotEncoder to encode the indexed string features\n",
    "ohe = OneHotEncoder(\n",
    "    inputCols=indexed_features,\n",
    "    outputCols=[col + '_ohe' for col in indexed_features],\n",
    "    dropLast=True\n",
    ")\n",
    "\n",
    "# Determine the names of the final list of features going into the model\n",
    "features = numeric_features + ohe.getOutputCols()\n",
    "print(\"Final features:\", features, \"\\n\")\n",
    "\n",
    "# Create a VectorAssembler to combine all features\n",
    "va = VectorAssembler(inputCols=features , outputCol='features')\n",
    "\n",
    "# Assemble a list of stages that includes all indexers, the one-hot\n",
    "# encoder, and the vector assembler\n",
    "stages = indexers + [ohe, va]\n",
    "print(\"Stages:\", stages)"
   ]
  },
  {
   "cell_type": "markdown",
   "metadata": {},
   "source": [
    "Great! Now let's see if that worked. Let's investigate how it transforms your dataset. Put all of the stages in a Pipeline and fit it to your data. Look at the features column. Did you obtain the number of features you expected?"
   ]
  },
  {
   "cell_type": "code",
   "execution_count": null,
   "metadata": {},
   "outputs": [],
   "source": [
    "# Import relevant class\n",
    "from pyspark.ml.pipeline import Pipeline\n",
    "\n",
    "# Instantiate a pipeline using stages list\n",
    "pipe = Pipeline(stages=stages)\n",
    "\n",
    "# Fit and transform the data using the pipeline, then look at\n",
    "# the size of the array in the 'features' column\n",
    "pipe.fit(df_all_binned)\\\n",
    "    .transform(df_all_binned)\\\n",
    "    .head()['features'].size"
   ]
  },
  {
   "cell_type": "markdown",
   "metadata": {},
   "source": [
    "<details>\n",
    "    <summary><u>Click to reveal answer</u></summary>\n",
    "    \n",
    "The pipeline should have produced a sparse vector with 29 features.\n",
    "\n",
    "This comes from:\n",
    "    \n",
    "* 20 numeric features\n",
    "* 3 one-hot encoded features with `dropLast=True`, containing\n",
    "  * 1 SEX feature\n",
    "  * 3 EDUCATION features\n",
    "  * 2 MARRIAGE features\n",
    "\n",
    "</details>"
   ]
  },
  {
   "cell_type": "markdown",
   "metadata": {},
   "source": [
    "## Fitting Machine Learning Models\n",
    "That looks good! Now let's go ahead and fit data to different machine learning models. To evaluate these models, you should use the `BinaryClassificationEvaluator`."
   ]
  },
  {
   "cell_type": "code",
   "execution_count": null,
   "metadata": {},
   "outputs": [],
   "source": [
    "from pyspark.ml.evaluation import BinaryClassificationEvaluator\n",
    "evaluator = BinaryClassificationEvaluator(\n",
    "    rawPredictionCol='prediction',\n",
    "    labelCol='default',\n",
    "    metricName='areaUnderROC'\n",
    ")"
   ]
  },
  {
   "cell_type": "markdown",
   "metadata": {},
   "source": [
    "### Logistic Regression\n",
    "\n",
    "First, we'll try a `LogisticRegression` ([documentation here](https://spark.apache.org/docs/latest/api/python/reference/api/pyspark.ml.classification.LogisticRegression.html)):\n",
    "\n",
    "* split the data into a train and test set. The basic structure of this is:\n",
    "```\n",
    "train, test = df.randomSplit(weights=[0.8, 0.2], seed=1)\n",
    "```\n",
    "  * make sure you replace `df` with the actual name of your prepared dataframe\n",
    "* instantiate a logistic regression with `standardization=True` and add it to the stages list\n",
    "* instantiate a new Pipeline estimator with all of the stages\n",
    "* fit the pipeline on the training data\n",
    "* transform both train and test data using the pipeline\n",
    "* use `evaluator` to evaluate performance on train vs. test"
   ]
  },
  {
   "cell_type": "code",
   "execution_count": null,
   "metadata": {},
   "outputs": [],
   "source": [
    "from pyspark.ml.classification import LogisticRegression\n",
    "\n",
    "# Train-test split\n",
    "train, test = df_all_binned.randomSplit(weights=[0.8, 0.2], seed=1)\n",
    "\n",
    "# Instantiate a logistic regression and add to stages\n",
    "lr = LogisticRegression(\n",
    "    featuresCol='features',\n",
    "    labelCol='default',\n",
    "    predictionCol='prediction',\n",
    "    standardization=True\n",
    ")\n",
    "lr_stages = stages + [lr]\n",
    "\n",
    "# Instantiate a new Pipeline with all of the stages\n",
    "lr_pipe = Pipeline(stages=lr_stages)\n",
    "\n",
    "# Fit the pipeline on the training data\n",
    "lr_pipe_fit = lr_pipe.fit(train)\n",
    "\n",
    "# Transform both train and test data using the pipeline\n",
    "lr_result_train = lr_pipe_fit.transform(train)\n",
    "lr_result_test = lr_pipe_fit.transform(test)\n",
    "\n",
    "# Use evaluator to evaluate performance\n",
    "print(\"ROC-AUC on train:\", evaluator.evaluate(lr_result_train))\n",
    "print(\"ROC-AUC on test:\", evaluator.evaluate(lr_result_test))"
   ]
  },
  {
   "cell_type": "markdown",
   "metadata": {},
   "source": [
    "Looks like the defaults for `LogisticRegression` are working pretty well, since the train and test metrics are pretty similar.\n",
    "\n",
    "Still, let's try a `CrossValidator` ([documentation here](https://spark.apache.org/docs/latest/api/python/reference/api/pyspark.ml.tuning.CrossValidator.html)) + `ParamGridBuilder` ([documentation here](https://spark.apache.org/docs/latest/api/python/reference/api/pyspark.ml.tuning.ParamGridBuilder.html)) approach with a few different regularization parameters.\n",
    "\n",
    "We'll use these regularization parameters:\n",
    "\n",
    "```python\n",
    "[0.0, 0.01, 0.1, 1.0]\n",
    "```\n",
    "\n",
    "In the cell below:\n",
    "\n",
    "* instantiate a `ParamGridBuilder` that tests out the `regParam` values listed above\n",
    "* instantiate a `CrossValidator` that uses the param grid you just created as well as `evaluator` and the pipeline you created earlier\n",
    "* fit the `CrossValidator` on the full DataFrame\n",
    "* display the metrics for all models, and identify the best model parameters"
   ]
  },
  {
   "cell_type": "code",
   "execution_count": null,
   "metadata": {},
   "outputs": [],
   "source": [
    "from pyspark.ml.tuning import ParamGridBuilder, CrossValidator\n",
    "\n",
    "# Set up param grid\n",
    "lr_params = ParamGridBuilder().addGrid(lr.regParam, [0.0, 0.01, 0.1, 1.0]).build()\n",
    "\n",
    "# Set up cross validator\n",
    "lr_cv = CrossValidator(\n",
    "    estimator=lr_pipe,\n",
    "    estimatorParamMaps=lr_params,\n",
    "    evaluator=evaluator\n",
    ")\n",
    "\n",
    "# Fit cross validator on the full dataframe\n",
    "lr_model = lr_cv.fit(df_all_binned)"
   ]
  },
  {
   "cell_type": "code",
   "execution_count": null,
   "metadata": {},
   "outputs": [],
   "source": [
    "# Display metrics\n",
    "lr_model.avgMetrics"
   ]
  },
  {
   "cell_type": "code",
   "execution_count": null,
   "metadata": {},
   "outputs": [],
   "source": [
    "# Best model was the first (0-th) one\n",
    "# (You could also use np.argmax to get this automatically\n",
    "# instead of manually inspecting the results)\n",
    "lr_params[0]"
   ]
  },
  {
   "cell_type": "markdown",
   "metadata": {},
   "source": [
    "Now try this again with other classifiers. Try and create a function that will allow you to easily test different models with different parameters. You can find all of the available classification model options [here](https://spark.apache.org/docs/latest/api/python/reference/pyspark.ml.html#classification).\n",
    "\n",
    "This function is optional, but it should allow for your code to be far more D.R.Y. The function should return the fitted cross-validated classifier as well as print out the AUC of the best-performing model and the best parameters."
   ]
  },
  {
   "cell_type": "code",
   "execution_count": null,
   "metadata": {},
   "outputs": [],
   "source": [
    "# Create a function to cross validate different classifiers with different parameters\n",
    "\n",
    "import numpy as np\n",
    "\n",
    "def create_model(df, preprocessing_stages, classifier, param_grid, evaluator):\n",
    "    # Fit the cross validator model\n",
    "    stages_with_classifier = preprocessing_stages + [classifier]\n",
    "    pipe = Pipeline(stages=stages_with_classifier)\n",
    "    cv = CrossValidator(\n",
    "        estimator=pipe,\n",
    "        estimatorParamMaps=param_grid,\n",
    "        evaluator=evaluator\n",
    "    )\n",
    "    model = cv.fit(df)\n",
    "    \n",
    "    # Find and display the best classifier's metric and params\n",
    "    index_best_clf = np.argmax(model.avgMetrics)\n",
    "    best_clf_metric = model.avgMetrics[index_best_clf]\n",
    "    best_clf_params = param_grid[index_best_clf]\n",
    "    print(f\"\"\"\n",
    "Best {evaluator.getMetricName()}: {best_clf_metric}\n",
    "\n",
    "Best params: {best_clf_params}\n",
    "    \"\"\")\n",
    "    \n",
    "    # Return the model\n",
    "    return model"
   ]
  },
  {
   "cell_type": "markdown",
   "metadata": {},
   "source": [
    "Now train one other classifier that is not a `LogisticRegression`. Use a `ParamGridBuilder` to try out some relevant parameters."
   ]
  },
  {
   "cell_type": "code",
   "execution_count": null,
   "metadata": {},
   "outputs": [],
   "source": [
    "# Here we're trying a random forest\n",
    "# ⏰ This cell may take a long time to run\n",
    "from pyspark.ml.classification import RandomForestClassifier\n",
    "rf = RandomForestClassifier(featuresCol='features',labelCol='default')\n",
    "rf_params = ParamGridBuilder()\\\n",
    " .addGrid(rf.maxDepth, [5,10])\\\n",
    " .addGrid(rf.numTrees, [20,100])\\\n",
    " .build()\n",
    "\n",
    "rf_model = create_model(df_all_binned, stages, rf, rf_params, evaluator)"
   ]
  },
  {
   "cell_type": "code",
   "execution_count": null,
   "metadata": {},
   "outputs": [],
   "source": [
    "Best areaUnderROC: 0.6532638868569178\n",
    "\n",
    "Best params: {Param(parent='RandomForestClassifier_7e86fedddfc5', name='maxDepth', doc='Maximum depth of the tree. (>= 0) E.g., depth 0 means 1 leaf node; depth 1 means 1 internal node + 2 leaf nodes. Must be in range [0, 30].'): 10, Param(parent='RandomForestClassifier_7e86fedddfc5', name='numTrees', doc='Number of trees to train (>= 1).'): 100}"
   ]
  },
  {
   "cell_type": "markdown",
   "metadata": {},
   "source": [
    "And one more:"
   ]
  },
  {
   "cell_type": "code",
   "execution_count": null,
   "metadata": {},
   "outputs": [],
   "source": [
    "# Your code here\n",
    "# ⏰ This cell may take a long time to run\n",
    "\n",
    "# Here we're trying a gradient-boosted trees classifier\n",
    "# ⏰ This cell may take a long time to run\n",
    "from pyspark.ml.classification import GBTClassifier\n",
    "gb = GBTClassifier(featuresCol='features',labelCol='default')\n",
    "gb_params = ParamGridBuilder()\\\n",
    "  .addGrid(gb.maxDepth,[1,5])\\\n",
    "  .addGrid(gb.maxIter,[20,50])\\\n",
    "  .build()\n",
    "\n",
    "gb_model = create_model(df_all_binned, stages, gb, gb_params, evaluator)"
   ]
  },
  {
   "cell_type": "code",
   "execution_count": null,
   "metadata": {},
   "outputs": [],
   "source": [
    "Best areaUnderROC: 0.6559347316917458\n",
    "\n",
    "Best params: {Param(parent='GBTClassifier_001ee491ee50', name='maxDepth', doc='Maximum depth of the tree. (>= 0) E.g., depth 0 means 1 leaf node; depth 1 means 1 internal node + 2 leaf nodes. Must be in range [0, 30].'): 5, Param(parent='GBTClassifier_001ee491ee50', name='maxIter', doc='max number of iterations (>= 0).'): 50}"
   ]
  },
  {
   "cell_type": "markdown",
   "metadata": {},
   "source": [
    "Which classifier turned out to be the best overall?"
   ]
  },
  {
   "cell_type": "code",
   "execution_count": null,
   "metadata": {},
   "outputs": [],
   "source": [
    "# Your answer here\n",
    "\"\"\"\n",
    "Looking at our metrics, the gradient-boosted trees classifier\n",
    "and random forest classifier had very similar metrics, with\n",
    "ROC-AUC just above 0.65. Either would be a strong choice if\n",
    "we aren't worried about computational complexity\n",
    "\n",
    "The logistic regression, with ROC-AUC of 0.61, could be our\n",
    "backup plan if we need a less-complex model\n",
    "\"\"\";"
   ]
  },
  {
   "cell_type": "markdown",
   "metadata": {},
   "source": [
    "## Level Up (Optional)\n",
    "\n",
    "* Create ROC curves for each of these models\n",
    "* Try the multi-layer perceptron classifier algorithm. You will soon learn about what this means in the neural network section!"
   ]
  },
  {
   "cell_type": "markdown",
   "metadata": {},
   "source": [
    "## Stop the Spark Session"
   ]
  },
  {
   "cell_type": "code",
   "execution_count": null,
   "metadata": {},
   "outputs": [],
   "source": [
    "spark.stop()"
   ]
  },
  {
   "cell_type": "markdown",
   "metadata": {},
   "source": [
    "## Summary\n",
    "\n",
    "If you've made it this far, congratulations! Spark is an in-demand skill, but it is not particularly easy to master. In this lesson, you fit multiple different machine learning pipelines for a classification problem. If you want to take your Spark skills to the next level, connect to a distributed cluster using a service like AWS or Databricks and perform these Spark operations on the cloud."
   ]
  }
 ],
 "metadata": {
  "kernelspec": {
   "display_name": "Python 3",
   "language": "python",
   "name": "python3"
  },
  "language_info": {
   "codemirror_mode": {
    "name": "ipython",
    "version": 3
   },
   "file_extension": ".py",
   "mimetype": "text/x-python",
   "name": "python",
   "nbconvert_exporter": "python",
   "pygments_lexer": "ipython3",
   "version": "3.8.5"
  }
 },
 "nbformat": 4,
 "nbformat_minor": 2
}
